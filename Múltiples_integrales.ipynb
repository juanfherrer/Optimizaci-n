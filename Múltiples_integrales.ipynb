{
  "nbformat": 4,
  "nbformat_minor": 0,
  "metadata": {
    "colab": {
      "provenance": [],
      "authorship_tag": "ABX9TyNQYQpwSJrkz8h3ecoWg+/X",
      "include_colab_link": true
    },
    "kernelspec": {
      "name": "python3",
      "display_name": "Python 3"
    },
    "language_info": {
      "name": "python"
    }
  },
  "cells": [
    {
      "cell_type": "markdown",
      "metadata": {
        "id": "view-in-github",
        "colab_type": "text"
      },
      "source": [
        "<a href=\"https://colab.research.google.com/github/juanfherrer/Optimizaci-n/blob/main/M%C3%BAltiples_integrales.ipynb\" target=\"_parent\"><img src=\"https://colab.research.google.com/assets/colab-badge.svg\" alt=\"Open In Colab\"/></a>"
      ]
    },
    {
      "cell_type": "markdown",
      "source": [
        "# Múltiples integrales en coordenadas rectangulares, polares, cilíndricas y esféricas"
      ],
      "metadata": {
        "id": "OQvQjCtOuV1C"
      }
    },
    {
      "cell_type": "code",
      "execution_count": 1,
      "metadata": {
        "colab": {
          "base_uri": "https://localhost:8080/"
        },
        "id": "Op0SgA9auGCs",
        "outputId": "b9735d44-533d-4cb3-d536-f83bcf75444f"
      },
      "outputs": [
        {
          "output_type": "stream",
          "name": "stdout",
          "text": [
            "Volumen bajo la superficie f(x, y) = x² + y² en círculo unidad: 1.5707963267948966\n"
          ]
        }
      ],
      "source": [
        "import numpy as np\n",
        "import scipy.integrate as spi\n",
        "\n",
        "# Ejemplo simple: calcular volumen bajo f(x, y) = x^2 + y^2 en un círculo (coordenadas polares)\n",
        "def integrando(r, theta):\n",
        "    return r**3  # x^2 + y^2 = r^2, y r * r^2 = r^3\n",
        "\n",
        "# Dominio: r de 0 a 1, theta de 0 a 2pi\n",
        "volumen, error = spi.dblquad(integrando, 0, 2*np.pi, lambda theta: 0, lambda theta: 1)\n",
        "\n",
        "print(\"Volumen bajo la superficie f(x, y) = x² + y² en círculo unidad:\", volumen)\n"
      ]
    }
  ]
}