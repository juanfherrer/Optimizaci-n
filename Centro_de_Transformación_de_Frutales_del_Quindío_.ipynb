{
  "nbformat": 4,
  "nbformat_minor": 0,
  "metadata": {
    "colab": {
      "provenance": [],
      "authorship_tag": "ABX9TyOZoBa+/8Ps4Y6+nGXReFPi",
      "include_colab_link": true
    },
    "kernelspec": {
      "name": "python3",
      "display_name": "Python 3"
    },
    "language_info": {
      "name": "python"
    }
  },
  "cells": [
    {
      "cell_type": "markdown",
      "metadata": {
        "id": "view-in-github",
        "colab_type": "text"
      },
      "source": [
        "<a href=\"https://colab.research.google.com/github/juanfherrer/Optimizaci-n/blob/main/Centro_de_Transformaci%C3%B3n_de_Frutales_del_Quind%C3%ADo_.ipynb\" target=\"_parent\"><img src=\"https://colab.research.google.com/assets/colab-badge.svg\" alt=\"Open In Colab\"/></a>"
      ]
    },
    {
      "cell_type": "markdown",
      "source": [
        "# *Centro de Transformación de Frutales del Quindío.*\n",
        "\n",
        "Objetivo del ejercicio\n",
        "Construir y entrenar un modelo de regresión lineal múltiple para predecir la producción procesada mensual (en kg), considerando:\n",
        "\n",
        "Kilos de fruta fresca recibida\n",
        "\n",
        "Tipo de fruta (codificada)\n",
        "\n",
        "Mano de obra utilizada (número de operarios)\n",
        "\n",
        "Temperatura promedio del mes (°C)\n",
        "\n",
        "Horas efectivas de procesamiento\n",
        "\n",
        "📁 Paso 1: Dataset simulado realista\n",
        "Vamos a crear un pequeño DataFrame con estos campos:"
      ],
      "metadata": {
        "id": "uxYd3f_XyRAa"
      }
    },
    {
      "cell_type": "code",
      "source": [
        "import pandas as pd\n",
        "import numpy as np\n",
        "\n",
        "np.random.seed(42)  # Reproducibilidad\n",
        "\n",
        "# Simular 30 registros\n",
        "n = 30\n",
        "fechas = pd.date_range(start='2023-01-01', periods=n, freq='M')\n",
        "\n",
        "data = pd.DataFrame({\n",
        "    'Fecha': fechas,\n",
        "    'FrutaRecibida': np.random.normal(loc=800, scale=150, size=n).astype(int),  # Promedio 800 kg\n",
        "    'TipoFruta': np.random.choice([1, 2, 3], size=n),  # 1=Guayaba, 2=Feijoa, 3=Uchuva\n",
        "    'Operarios': np.random.randint(3, 8, size=n),  # Entre 3 y 7 operarios\n",
        "    'Temperatura': np.random.normal(loc=24, scale=2.5, size=n),  # Promedio 24°C\n",
        "    'HorasProcesamiento': np.random.randint(4, 10, size=n)  # Entre 4 y 9 horas\n",
        "})\n",
        "\n",
        "# Simular ProducciónProcesada con algo de lógica (por ejemplo, 75% fruta recibida + influencia de horas)\n",
        "data['ProducciónProcesada'] = (\n",
        "    data['FrutaRecibida'] * 0.75\n",
        "    + data['HorasProcesamiento'] * 5\n",
        "    - data['Temperatura'] * 2\n",
        "    + np.random.normal(loc=0, scale=50, size=n)  # ruido\n",
        ").astype(int)\n",
        "\n",
        "# Mostrar primeras filas\n",
        "data.head()\n"
      ],
      "metadata": {
        "colab": {
          "base_uri": "https://localhost:8080/",
          "height": 241
        },
        "id": "9UTPZ87N6Kxn",
        "outputId": "77154089-c452-4431-92e9-b72c4a00e36a"
      },
      "execution_count": 8,
      "outputs": [
        {
          "output_type": "stream",
          "name": "stderr",
          "text": [
            "<ipython-input-8-fd90311481f0>:8: FutureWarning: 'M' is deprecated and will be removed in a future version, please use 'ME' instead.\n",
            "  fechas = pd.date_range(start='2023-01-01', periods=n, freq='M')\n"
          ]
        },
        {
          "output_type": "execute_result",
          "data": {
            "text/plain": [
              "       Fecha  FrutaRecibida  TipoFruta  Operarios  Temperatura  \\\n",
              "0 2023-01-31            874          3          4    22.802064   \n",
              "1 2023-02-28            779          3          7    23.535853   \n",
              "2 2023-03-31            897          1          4    21.234163   \n",
              "3 2023-04-30           1028          3          3    21.009483   \n",
              "4 2023-05-31            764          3          6    26.031315   \n",
              "\n",
              "   HorasProcesamiento  ProducciónProcesada  \n",
              "0                   9                  667  \n",
              "1                   9                  578  \n",
              "2                   6                  564  \n",
              "3                   5                  752  \n",
              "4                   7                  558  "
            ],
            "text/html": [
              "\n",
              "  <div id=\"df-070805ba-31e0-4d4d-86f5-5e6feb098c50\" class=\"colab-df-container\">\n",
              "    <div>\n",
              "<style scoped>\n",
              "    .dataframe tbody tr th:only-of-type {\n",
              "        vertical-align: middle;\n",
              "    }\n",
              "\n",
              "    .dataframe tbody tr th {\n",
              "        vertical-align: top;\n",
              "    }\n",
              "\n",
              "    .dataframe thead th {\n",
              "        text-align: right;\n",
              "    }\n",
              "</style>\n",
              "<table border=\"1\" class=\"dataframe\">\n",
              "  <thead>\n",
              "    <tr style=\"text-align: right;\">\n",
              "      <th></th>\n",
              "      <th>Fecha</th>\n",
              "      <th>FrutaRecibida</th>\n",
              "      <th>TipoFruta</th>\n",
              "      <th>Operarios</th>\n",
              "      <th>Temperatura</th>\n",
              "      <th>HorasProcesamiento</th>\n",
              "      <th>ProducciónProcesada</th>\n",
              "    </tr>\n",
              "  </thead>\n",
              "  <tbody>\n",
              "    <tr>\n",
              "      <th>0</th>\n",
              "      <td>2023-01-31</td>\n",
              "      <td>874</td>\n",
              "      <td>3</td>\n",
              "      <td>4</td>\n",
              "      <td>22.802064</td>\n",
              "      <td>9</td>\n",
              "      <td>667</td>\n",
              "    </tr>\n",
              "    <tr>\n",
              "      <th>1</th>\n",
              "      <td>2023-02-28</td>\n",
              "      <td>779</td>\n",
              "      <td>3</td>\n",
              "      <td>7</td>\n",
              "      <td>23.535853</td>\n",
              "      <td>9</td>\n",
              "      <td>578</td>\n",
              "    </tr>\n",
              "    <tr>\n",
              "      <th>2</th>\n",
              "      <td>2023-03-31</td>\n",
              "      <td>897</td>\n",
              "      <td>1</td>\n",
              "      <td>4</td>\n",
              "      <td>21.234163</td>\n",
              "      <td>6</td>\n",
              "      <td>564</td>\n",
              "    </tr>\n",
              "    <tr>\n",
              "      <th>3</th>\n",
              "      <td>2023-04-30</td>\n",
              "      <td>1028</td>\n",
              "      <td>3</td>\n",
              "      <td>3</td>\n",
              "      <td>21.009483</td>\n",
              "      <td>5</td>\n",
              "      <td>752</td>\n",
              "    </tr>\n",
              "    <tr>\n",
              "      <th>4</th>\n",
              "      <td>2023-05-31</td>\n",
              "      <td>764</td>\n",
              "      <td>3</td>\n",
              "      <td>6</td>\n",
              "      <td>26.031315</td>\n",
              "      <td>7</td>\n",
              "      <td>558</td>\n",
              "    </tr>\n",
              "  </tbody>\n",
              "</table>\n",
              "</div>\n",
              "    <div class=\"colab-df-buttons\">\n",
              "\n",
              "  <div class=\"colab-df-container\">\n",
              "    <button class=\"colab-df-convert\" onclick=\"convertToInteractive('df-070805ba-31e0-4d4d-86f5-5e6feb098c50')\"\n",
              "            title=\"Convert this dataframe to an interactive table.\"\n",
              "            style=\"display:none;\">\n",
              "\n",
              "  <svg xmlns=\"http://www.w3.org/2000/svg\" height=\"24px\" viewBox=\"0 -960 960 960\">\n",
              "    <path d=\"M120-120v-720h720v720H120Zm60-500h600v-160H180v160Zm220 220h160v-160H400v160Zm0 220h160v-160H400v160ZM180-400h160v-160H180v160Zm440 0h160v-160H620v160ZM180-180h160v-160H180v160Zm440 0h160v-160H620v160Z\"/>\n",
              "  </svg>\n",
              "    </button>\n",
              "\n",
              "  <style>\n",
              "    .colab-df-container {\n",
              "      display:flex;\n",
              "      gap: 12px;\n",
              "    }\n",
              "\n",
              "    .colab-df-convert {\n",
              "      background-color: #E8F0FE;\n",
              "      border: none;\n",
              "      border-radius: 50%;\n",
              "      cursor: pointer;\n",
              "      display: none;\n",
              "      fill: #1967D2;\n",
              "      height: 32px;\n",
              "      padding: 0 0 0 0;\n",
              "      width: 32px;\n",
              "    }\n",
              "\n",
              "    .colab-df-convert:hover {\n",
              "      background-color: #E2EBFA;\n",
              "      box-shadow: 0px 1px 2px rgba(60, 64, 67, 0.3), 0px 1px 3px 1px rgba(60, 64, 67, 0.15);\n",
              "      fill: #174EA6;\n",
              "    }\n",
              "\n",
              "    .colab-df-buttons div {\n",
              "      margin-bottom: 4px;\n",
              "    }\n",
              "\n",
              "    [theme=dark] .colab-df-convert {\n",
              "      background-color: #3B4455;\n",
              "      fill: #D2E3FC;\n",
              "    }\n",
              "\n",
              "    [theme=dark] .colab-df-convert:hover {\n",
              "      background-color: #434B5C;\n",
              "      box-shadow: 0px 1px 3px 1px rgba(0, 0, 0, 0.15);\n",
              "      filter: drop-shadow(0px 1px 2px rgba(0, 0, 0, 0.3));\n",
              "      fill: #FFFFFF;\n",
              "    }\n",
              "  </style>\n",
              "\n",
              "    <script>\n",
              "      const buttonEl =\n",
              "        document.querySelector('#df-070805ba-31e0-4d4d-86f5-5e6feb098c50 button.colab-df-convert');\n",
              "      buttonEl.style.display =\n",
              "        google.colab.kernel.accessAllowed ? 'block' : 'none';\n",
              "\n",
              "      async function convertToInteractive(key) {\n",
              "        const element = document.querySelector('#df-070805ba-31e0-4d4d-86f5-5e6feb098c50');\n",
              "        const dataTable =\n",
              "          await google.colab.kernel.invokeFunction('convertToInteractive',\n",
              "                                                    [key], {});\n",
              "        if (!dataTable) return;\n",
              "\n",
              "        const docLinkHtml = 'Like what you see? Visit the ' +\n",
              "          '<a target=\"_blank\" href=https://colab.research.google.com/notebooks/data_table.ipynb>data table notebook</a>'\n",
              "          + ' to learn more about interactive tables.';\n",
              "        element.innerHTML = '';\n",
              "        dataTable['output_type'] = 'display_data';\n",
              "        await google.colab.output.renderOutput(dataTable, element);\n",
              "        const docLink = document.createElement('div');\n",
              "        docLink.innerHTML = docLinkHtml;\n",
              "        element.appendChild(docLink);\n",
              "      }\n",
              "    </script>\n",
              "  </div>\n",
              "\n",
              "\n",
              "<div id=\"df-f26f276e-e863-4fe0-bfb1-8756bd3430e6\">\n",
              "  <button class=\"colab-df-quickchart\" onclick=\"quickchart('df-f26f276e-e863-4fe0-bfb1-8756bd3430e6')\"\n",
              "            title=\"Suggest charts\"\n",
              "            style=\"display:none;\">\n",
              "\n",
              "<svg xmlns=\"http://www.w3.org/2000/svg\" height=\"24px\"viewBox=\"0 0 24 24\"\n",
              "     width=\"24px\">\n",
              "    <g>\n",
              "        <path d=\"M19 3H5c-1.1 0-2 .9-2 2v14c0 1.1.9 2 2 2h14c1.1 0 2-.9 2-2V5c0-1.1-.9-2-2-2zM9 17H7v-7h2v7zm4 0h-2V7h2v10zm4 0h-2v-4h2v4z\"/>\n",
              "    </g>\n",
              "</svg>\n",
              "  </button>\n",
              "\n",
              "<style>\n",
              "  .colab-df-quickchart {\n",
              "      --bg-color: #E8F0FE;\n",
              "      --fill-color: #1967D2;\n",
              "      --hover-bg-color: #E2EBFA;\n",
              "      --hover-fill-color: #174EA6;\n",
              "      --disabled-fill-color: #AAA;\n",
              "      --disabled-bg-color: #DDD;\n",
              "  }\n",
              "\n",
              "  [theme=dark] .colab-df-quickchart {\n",
              "      --bg-color: #3B4455;\n",
              "      --fill-color: #D2E3FC;\n",
              "      --hover-bg-color: #434B5C;\n",
              "      --hover-fill-color: #FFFFFF;\n",
              "      --disabled-bg-color: #3B4455;\n",
              "      --disabled-fill-color: #666;\n",
              "  }\n",
              "\n",
              "  .colab-df-quickchart {\n",
              "    background-color: var(--bg-color);\n",
              "    border: none;\n",
              "    border-radius: 50%;\n",
              "    cursor: pointer;\n",
              "    display: none;\n",
              "    fill: var(--fill-color);\n",
              "    height: 32px;\n",
              "    padding: 0;\n",
              "    width: 32px;\n",
              "  }\n",
              "\n",
              "  .colab-df-quickchart:hover {\n",
              "    background-color: var(--hover-bg-color);\n",
              "    box-shadow: 0 1px 2px rgba(60, 64, 67, 0.3), 0 1px 3px 1px rgba(60, 64, 67, 0.15);\n",
              "    fill: var(--button-hover-fill-color);\n",
              "  }\n",
              "\n",
              "  .colab-df-quickchart-complete:disabled,\n",
              "  .colab-df-quickchart-complete:disabled:hover {\n",
              "    background-color: var(--disabled-bg-color);\n",
              "    fill: var(--disabled-fill-color);\n",
              "    box-shadow: none;\n",
              "  }\n",
              "\n",
              "  .colab-df-spinner {\n",
              "    border: 2px solid var(--fill-color);\n",
              "    border-color: transparent;\n",
              "    border-bottom-color: var(--fill-color);\n",
              "    animation:\n",
              "      spin 1s steps(1) infinite;\n",
              "  }\n",
              "\n",
              "  @keyframes spin {\n",
              "    0% {\n",
              "      border-color: transparent;\n",
              "      border-bottom-color: var(--fill-color);\n",
              "      border-left-color: var(--fill-color);\n",
              "    }\n",
              "    20% {\n",
              "      border-color: transparent;\n",
              "      border-left-color: var(--fill-color);\n",
              "      border-top-color: var(--fill-color);\n",
              "    }\n",
              "    30% {\n",
              "      border-color: transparent;\n",
              "      border-left-color: var(--fill-color);\n",
              "      border-top-color: var(--fill-color);\n",
              "      border-right-color: var(--fill-color);\n",
              "    }\n",
              "    40% {\n",
              "      border-color: transparent;\n",
              "      border-right-color: var(--fill-color);\n",
              "      border-top-color: var(--fill-color);\n",
              "    }\n",
              "    60% {\n",
              "      border-color: transparent;\n",
              "      border-right-color: var(--fill-color);\n",
              "    }\n",
              "    80% {\n",
              "      border-color: transparent;\n",
              "      border-right-color: var(--fill-color);\n",
              "      border-bottom-color: var(--fill-color);\n",
              "    }\n",
              "    90% {\n",
              "      border-color: transparent;\n",
              "      border-bottom-color: var(--fill-color);\n",
              "    }\n",
              "  }\n",
              "</style>\n",
              "\n",
              "  <script>\n",
              "    async function quickchart(key) {\n",
              "      const quickchartButtonEl =\n",
              "        document.querySelector('#' + key + ' button');\n",
              "      quickchartButtonEl.disabled = true;  // To prevent multiple clicks.\n",
              "      quickchartButtonEl.classList.add('colab-df-spinner');\n",
              "      try {\n",
              "        const charts = await google.colab.kernel.invokeFunction(\n",
              "            'suggestCharts', [key], {});\n",
              "      } catch (error) {\n",
              "        console.error('Error during call to suggestCharts:', error);\n",
              "      }\n",
              "      quickchartButtonEl.classList.remove('colab-df-spinner');\n",
              "      quickchartButtonEl.classList.add('colab-df-quickchart-complete');\n",
              "    }\n",
              "    (() => {\n",
              "      let quickchartButtonEl =\n",
              "        document.querySelector('#df-f26f276e-e863-4fe0-bfb1-8756bd3430e6 button');\n",
              "      quickchartButtonEl.style.display =\n",
              "        google.colab.kernel.accessAllowed ? 'block' : 'none';\n",
              "    })();\n",
              "  </script>\n",
              "</div>\n",
              "\n",
              "    </div>\n",
              "  </div>\n"
            ],
            "application/vnd.google.colaboratory.intrinsic+json": {
              "type": "dataframe",
              "variable_name": "data",
              "summary": "{\n  \"name\": \"data\",\n  \"rows\": 30,\n  \"fields\": [\n    {\n      \"column\": \"Fecha\",\n      \"properties\": {\n        \"dtype\": \"date\",\n        \"min\": \"2023-01-31 00:00:00\",\n        \"max\": \"2025-06-30 00:00:00\",\n        \"num_unique_values\": 30,\n        \"samples\": [\n          \"2025-04-30 00:00:00\",\n          \"2024-04-30 00:00:00\",\n          \"2024-12-31 00:00:00\"\n        ],\n        \"semantic_type\": \"\",\n        \"description\": \"\"\n      }\n    },\n    {\n      \"column\": \"FrutaRecibida\",\n      \"properties\": {\n        \"dtype\": \"number\",\n        \"std\": 134,\n        \"min\": 513,\n        \"max\": 1036,\n        \"num_unique_values\": 28,\n        \"samples\": [\n          730,\n          856,\n          881\n        ],\n        \"semantic_type\": \"\",\n        \"description\": \"\"\n      }\n    },\n    {\n      \"column\": \"TipoFruta\",\n      \"properties\": {\n        \"dtype\": \"number\",\n        \"std\": 0,\n        \"min\": 1,\n        \"max\": 3,\n        \"num_unique_values\": 3,\n        \"samples\": [\n          3,\n          1,\n          2\n        ],\n        \"semantic_type\": \"\",\n        \"description\": \"\"\n      }\n    },\n    {\n      \"column\": \"Operarios\",\n      \"properties\": {\n        \"dtype\": \"number\",\n        \"std\": 1,\n        \"min\": 3,\n        \"max\": 7,\n        \"num_unique_values\": 5,\n        \"samples\": [\n          7,\n          5,\n          3\n        ],\n        \"semantic_type\": \"\",\n        \"description\": \"\"\n      }\n    },\n    {\n      \"column\": \"Temperatura\",\n      \"properties\": {\n        \"dtype\": \"number\",\n        \"std\": 2.4799576029599115,\n        \"min\": 17.450637239775638,\n        \"max\": 27.911609139535017,\n        \"num_unique_values\": 30,\n        \"samples\": [\n          24.82187777414921,\n          26.05475626093806,\n          22.70432445431588\n        ],\n        \"semantic_type\": \"\",\n        \"description\": \"\"\n      }\n    },\n    {\n      \"column\": \"HorasProcesamiento\",\n      \"properties\": {\n        \"dtype\": \"number\",\n        \"std\": 1,\n        \"min\": 4,\n        \"max\": 9,\n        \"num_unique_values\": 6,\n        \"samples\": [\n          9,\n          6,\n          8\n        ],\n        \"semantic_type\": \"\",\n        \"description\": \"\"\n      }\n    },\n    {\n      \"column\": \"Producci\\u00f3nProcesada\",\n      \"properties\": {\n        \"dtype\": \"number\",\n        \"std\": 120,\n        \"min\": 318,\n        \"max\": 767,\n        \"num_unique_values\": 30,\n        \"samples\": [\n          714,\n          434,\n          427\n        ],\n        \"semantic_type\": \"\",\n        \"description\": \"\"\n      }\n    }\n  ]\n}"
            }
          },
          "metadata": {},
          "execution_count": 8
        }
      ]
    },
    {
      "cell_type": "markdown",
      "source": [
        "Entrenar el modelo de regresión lineal multiple"
      ],
      "metadata": {
        "id": "Dwp4VYRQyeaI"
      }
    },
    {
      "cell_type": "code",
      "source": [
        "from sklearn.linear_model import LinearRegression\n",
        "from sklearn.metrics import mean_squared_error, r2_score\n",
        "\n",
        "# Variables predictoras y objetivo\n",
        "X = df[['FrutaRecibida', 'TipoFruta', 'Operarios', 'Temperatura', 'HorasProcesamiento']]\n",
        "y = df['ProducciónProcesada']\n",
        "\n",
        "# Modelo\n",
        "modelo = LinearRegression()\n",
        "modelo.fit(X, y)\n",
        "\n",
        "# Predicción\n",
        "y_pred = modelo.predict(X)\n",
        "\n",
        "# Resultados\n",
        "print(\"Intercepto (β₀):\", modelo.intercept_)\n",
        "print(\"Coeficientes (β₁...β₅):\", modelo.coef_)\n",
        "print(\"R² del modelo:\", r2_score(y, y_pred))\n"
      ],
      "metadata": {
        "colab": {
          "base_uri": "https://localhost:8080/"
        },
        "id": "UiC-DDv1ygjq",
        "outputId": "ac1a937d-0b88-4d27-a187-bf73f6e4cc87"
      },
      "execution_count": 10,
      "outputs": [
        {
          "output_type": "stream",
          "name": "stdout",
          "text": [
            "Intercepto (β₀): -75.14892317712724\n",
            "Coeficientes (β₁...β₅): [ 0.73684759  0.27711112  5.68167684 -2.04384083 14.18856604]\n",
            "R² del modelo: 0.8307396685506272\n"
          ]
        }
      ]
    },
    {
      "cell_type": "markdown",
      "source": [
        "Paso 3: Interpretación de los coeficientes\n",
        "El modelo te dirá cuánto influye cada variable en la producción. Por ejemplo:\n",
        "\n",
        "β₁ (FrutaRecibida) podría ser ≈ 0.6\n",
        "\n",
        "β₂ (TipoFruta): diferencia en rendimiento entre fresa y mora\n",
        "\n",
        "β₃ (Operarios): más personas, más capacidad de procesamiento\n",
        "\n",
        "β₄ (Temperatura): la eficiencia puede cambiar con la temperatura ambiente\n",
        "\n",
        "β₅ (HorasProcesamiento): más horas, más producción"
      ],
      "metadata": {
        "id": "YKwCe2Odyv8i"
      }
    },
    {
      "cell_type": "markdown",
      "source": [
        "Paso 4: Visualizar resultados"
      ],
      "metadata": {
        "id": "KwIlVJlyy1Ba"
      }
    },
    {
      "cell_type": "code",
      "source": [
        "import matplotlib.pyplot as plt\n",
        "\n",
        "# Comparar predicciones vs valores reales\n",
        "plt.plot(y.values, label='Producción Real', marker='o')\n",
        "plt.plot(y_pred, label='Producción Estimada', marker='x')\n",
        "plt.xlabel(\"Observaciones (Meses)\")\n",
        "plt.ylabel(\"Producción Procesada (kg)\")\n",
        "plt.title(\"Comparación de Producción Real vs Predicha\")\n",
        "plt.legend()\n",
        "plt.grid(True)\n",
        "plt.show()\n"
      ],
      "metadata": {
        "colab": {
          "base_uri": "https://localhost:8080/",
          "height": 472
        },
        "id": "S4Ohg__DyxIR",
        "outputId": "41b05462-b0ba-4087-b242-570036853a9d"
      },
      "execution_count": 11,
      "outputs": [
        {
          "output_type": "display_data",
          "data": {
            "text/plain": [
              "<Figure size 640x480 with 1 Axes>"
            ],
            "image/png": "[encoded data removed]"
          },
          "metadata": {}
        }
      ]
    },
    {
      "cell_type": "markdown",
      "source": [
        "🔄 Paso 5: Prueba el modelo con nuevos datos"
      ],
      "metadata": {
        "id": "h4IcPXDCzEf7"
      }
    },
    {
      "cell_type": "code",
      "source": [
        "# Nuevo mes con datos\n",
        "nueva_entrada = pd.DataFrame({\n",
        "    'FrutaRecibida': [1450],\n",
        "    'TipoFruta': [1],           # mora\n",
        "    'Operarios': [7],\n",
        "    'Temperatura': [20],\n",
        "    'HorasProcesamiento': [47]\n",
        "})\n",
        "\n",
        "# Predicción\n",
        "prediccion = modelo.predict(nueva_entrada)\n",
        "print(\"Producción estimada:\", round(prediccion[0], 2), \"kg\")"
      ],
      "metadata": {
        "colab": {
          "base_uri": "https://localhost:8080/"
        },
        "id": "RctDjBTCzGIp",
        "outputId": "f7cc2b17-d0db-45c8-912b-be02d297bd0c"
      },
      "execution_count": 12,
      "outputs": [
        {
          "output_type": "stream",
          "name": "stdout",
          "text": [
            "Producción estimada: 1659.31 kg\n"
          ]
        }
      ]
    },
    {
      "cell_type": "code",
      "source": [
        "import statsmodels.api as sm\n",
        "\n",
        "# Agregamos constante (intercepto)\n",
        "X_const = sm.add_constant(X)\n",
        "\n",
        "# Ajustamos modelo\n",
        "modelo_stats = sm.OLS(y, X_const).fit()\n",
        "\n",
        "# Resumen del modelo con errores estándar\n",
        "print(modelo_stats.summary())\n"
      ],
      "metadata": {
        "colab": {
          "base_uri": "https://localhost:8080/"
        },
        "id": "-XgAFRVT07w6",
        "outputId": "401d3c3a-6d0f-45e1-b63c-183702e20267"
      },
      "execution_count": 13,
      "outputs": [
        {
          "output_type": "stream",
          "name": "stdout",
          "text": [
            "                             OLS Regression Results                            \n",
            "===============================================================================\n",
            "Dep. Variable:     ProducciónProcesada   R-squared:                       0.831\n",
            "Model:                             OLS   Adj. R-squared:                  0.795\n",
            "Method:                  Least Squares   F-statistic:                     23.56\n",
            "Date:                 Sun, 20 Apr 2025   Prob (F-statistic):           1.55e-08\n",
            "Time:                         20:38:38   Log-Likelihood:                -159.16\n",
            "No. Observations:                   30   AIC:                             330.3\n",
            "Df Residuals:                       24   BIC:                             338.7\n",
            "Df Model:                            5                                         \n",
            "Covariance Type:             nonrobust                                         \n",
            "======================================================================================\n",
            "                         coef    std err          t      P>|t|      [0.025      0.975]\n",
            "--------------------------------------------------------------------------------------\n",
            "const                -75.1489    118.471     -0.634      0.532    -319.661     169.363\n",
            "FrutaRecibida          0.7368      0.078      9.432      0.000       0.576       0.898\n",
            "TipoFruta              0.2771     15.261      0.018      0.986     -31.220      31.774\n",
            "Operarios              5.6817      6.997      0.812      0.425      -8.760      20.123\n",
            "Temperatura           -2.0438      4.158     -0.492      0.627     -10.625       6.537\n",
            "HorasProcesamiento    14.1886      5.279      2.688      0.013       3.292      25.085\n",
            "==============================================================================\n",
            "Omnibus:                        4.196   Durbin-Watson:                   2.486\n",
            "Prob(Omnibus):                  0.123   Jarque-Bera (JB):                2.916\n",
            "Skew:                           0.746   Prob(JB):                        0.233\n",
            "Kurtosis:                       3.326   Cond. No.                     9.33e+03\n",
            "==============================================================================\n",
            "\n",
            "Notes:\n",
            "[1] Standard Errors assume that the covariance matrix of the errors is correctly specified.\n",
            "[2] The condition number is large, 9.33e+03. This might indicate that there are\n",
            "strong multicollinearity or other numerical problems.\n"
          ]
        }
      ]
    },
    {
      "cell_type": "markdown",
      "source": [
        "1. Importar librerías y preparar los datos"
      ],
      "metadata": {
        "id": "fEvRq9rgDEVH"
      }
    },
    {
      "cell_type": "code",
      "source": [
        "import statsmodels.api as sm\n",
        "import matplotlib.pyplot as plt\n",
        "import seaborn as sns\n",
        "\n",
        "# Seleccionar variables independientes (X) y dependiente (y)\n",
        "X = data[['FrutaRecibida', 'TipoFruta', 'Operarios', 'Temperatura', 'HorasProcesamiento']]\n",
        "y = data['ProducciónProcesada']\n",
        "\n",
        "# Agregar constante al modelo\n",
        "X = sm.add_constant(X)\n"
      ],
      "metadata": {
        "id": "mJyLcW35DJOF"
      },
      "execution_count": null,
      "outputs": []
    },
    {
      "cell_type": "markdown",
      "source": [
        "2. Ajustar modelo de regresión\n",
        "\n",
        "Este paso imprimirá una tabla con:\n",
        "\n",
        "Coeficientes estimados (coef)\n",
        "\n",
        "Errores estándar (std err)\n",
        "\n",
        "Valores t y p para cada coeficiente\n",
        "\n",
        "R² (bondad del ajuste)\n",
        "\n",
        "Estadísticos F y de normalidad"
      ],
      "metadata": {
        "id": "fGmeytnJC5wK"
      }
    },
    {
      "cell_type": "code",
      "source": [
        "modelo = sm.OLS(y, X).fit()\n",
        "print(modelo.summary())"
      ],
      "metadata": {
        "id": "MarPt4kiDPpX"
      },
      "execution_count": null,
      "outputs": []
    },
    {
      "cell_type": "markdown",
      "source": [
        "3. Visualizar la relación real vs predicción"
      ],
      "metadata": {
        "id": "q94MLgeRDcG1"
      }
    },
    {
      "cell_type": "code",
      "source": [
        "# Predicciones del modelo\n",
        "data['Predicción'] = modelo.predict(X)\n",
        "\n",
        "# Gráfico real vs predicho\n",
        "plt.figure(figsize=(10,6))\n",
        "sns.lineplot(data=data, x='Fecha', y='ProducciónProcesada', label='Real')\n",
        "sns.lineplot(data=data, x='Fecha', y='Predicción', label='Predicción')\n",
        "plt.title('Producción Procesada Real vs Predicción')\n",
        "plt.ylabel('Kg')\n",
        "plt.xticks(rotation=45)\n",
        "plt.legend()\n",
        "plt.tight_layout()\n",
        "plt.show()"
      ],
      "metadata": {
        "id": "f0-JaSJ9Ddl1"
      },
      "execution_count": null,
      "outputs": []
    }
  ]
}