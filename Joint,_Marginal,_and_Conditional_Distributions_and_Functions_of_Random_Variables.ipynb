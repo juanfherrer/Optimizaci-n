{
  "nbformat": 4,
  "nbformat_minor": 0,
  "metadata": {
    "colab": {
      "provenance": [],
      "authorship_tag": "ABX9TyOB6DvfxI4fxsZwLpXfhYid",
      "include_colab_link": true
    },
    "kernelspec": {
      "name": "python3",
      "display_name": "Python 3"
    },
    "language_info": {
      "name": "python"
    }
  },
  "cells": [
    {
      "cell_type": "markdown",
      "metadata": {
        "id": "view-in-github",
        "colab_type": "text"
      },
      "source": [
        "<a href=\"https://colab.research.google.com/github/juanfherrer/Optimizaci-n/blob/main/Joint%2C_Marginal%2C_and_Conditional_Distributions_and_Functions_of_Random_Variables.ipynb\" target=\"_parent\"><img src=\"https://colab.research.google.com/assets/colab-badge.svg\" alt=\"Open In Colab\"/></a>"
      ]
    },
    {
      "cell_type": "markdown",
      "source": [
        "Joint, Marginal, and Conditional Distributions and Functions of Random Variables (Ampliado)\n",
        "Este módulo profundiza en el análisis de variables aleatorias y cómo transformarlas o analizarlas con base en funciones, momentos y regresión. Aquí entramos en conceptos clave para ciencia de datos, análisis económico y machine learning.\n",
        "\n",
        "1️⃣ Funciones de variables aleatorias\n",
        "Cuando transformamos una variable aleatoria\n",
        "𝑋\n",
        "X mediante una función\n",
        "𝑔\n",
        "(\n",
        "𝑋\n",
        ")\n",
        "g(X), estamos creando una nueva variable aleatoria.\n",
        "\n",
        "Ejemplo aplicado:\n",
        "Si\n",
        "𝑋\n",
        "X es el ingreso mensual de una empresa, y aplicamos\n",
        "𝑔\n",
        "(\n",
        "𝑋\n",
        ")\n",
        "=\n",
        "log\n",
        "⁡\n",
        "(\n",
        "𝑋\n",
        ")\n",
        "g(X)=log(X), obtenemos una nueva variable que podría normalizar la distribución de ingresos (útil en modelos de predicción como regresión lineal o redes neuronales)."
      ],
      "metadata": {
        "id": "mey6hmHC8tM1"
      }
    },
    {
      "cell_type": "code",
      "execution_count": null,
      "metadata": {
        "id": "g1MOx9qv8sR3"
      },
      "outputs": [],
      "source": [
        "import pandas as pd\n",
        "import numpy as np\n",
        "import matplotlib.pyplot as plt\n",
        "import seaborn as sns\n",
        "from sklearn.linear_model import LinearRegression\n",
        "\n",
        "# Simulación: Educación (en años) vs Ingreso mensual\n",
        "np.random.seed(0)\n",
        "n = 200\n",
        "educacion = np.random.randint(5, 21, size=n)  # 5 a 20 años de educación\n",
        "ingreso = 500 + 150 * educacion + np.random.normal(0, 300, size=n)  # ingreso con ruido\n",
        "\n",
        "# DataFrame\n",
        "df = pd.DataFrame({'Educacion': educacion, 'Ingreso': ingreso})\n",
        "\n",
        "# Esperanza y varianza\n",
        "print(\"Esperanza (media) de ingreso:\", df['Ingreso'].mean())\n",
        "print(\"Varianza de ingreso:\", df['Ingreso'].var())\n",
        "\n",
        "# Regresión lineal\n",
        "modelo = LinearRegression()\n",
        "modelo.fit(df[['Educacion']], df['Ingreso'])\n",
        "\n",
        "# Predicción\n",
        "df['Ingreso_Predicho'] = modelo.predict(df[['Educacion']])\n",
        "\n",
        "# Visualización\n",
        "sns.scatterplot(data=df, x='Educacion', y='Ingreso')\n",
        "sns.lineplot(data=df, x='Educacion', y='Ingreso_Predicho', color='red')\n",
        "plt.title(\"Regresión: Ingreso vs Educación\")\n",
        "plt.show()\n"
      ]
    }
  ]
}